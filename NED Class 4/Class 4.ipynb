{
 "cells": [
  {
   "cell_type": "code",
   "execution_count": 5,
   "metadata": {},
   "outputs": [
    {
     "name": "stdout",
     "output_type": "stream",
     "text": [
      "Name : Adnan Khan, Roll No : 18, Course : DS for AI, Institute : NED\n"
     ]
    }
   ],
   "source": [
    "#Functions\n",
    "\n",
    "name= \"Adnan Khan\"\n",
    "roll_no= 18\n",
    "course= \"DS for AI\"\n",
    "Institute= \"NED\"\n",
    "\n",
    "print(\"Name : \" + name + \", Roll No : \" + str(roll_no) + \", Course : \" + course + \", Institute : \" + Institute )"
   ]
  },
  {
   "cell_type": "code",
   "execution_count": 9,
   "metadata": {},
   "outputs": [
    {
     "name": "stdout",
     "output_type": "stream",
     "text": [
      "\n",
      "NED University\n",
      "Summer 2022\n",
      "\n",
      "Name: Adnan Khan\n",
      "Roll No: 18\n",
      "Course: DS for AI\n",
      "Institute:NED\n",
      "\n"
     ]
    }
   ],
   "source": [
    "name= \"Adnan Khan\"\n",
    "roll_no= 18\n",
    "course= \"DS for AI\"\n",
    "Institute= \"NED\"\n",
    "\n",
    "card= \"\"\"\n",
    "NED University\n",
    "Summer 2022\n",
    "\n",
    "Name: {}\n",
    "Roll No: {}\n",
    "Course: {}\n",
    "Institute:{}\n",
    "\"\"\".format(name,roll_no,course,Institute)\n",
    "\n",
    "print(card)\n"
   ]
  },
  {
   "cell_type": "code",
   "execution_count": 12,
   "metadata": {},
   "outputs": [
    {
     "name": "stdout",
     "output_type": "stream",
     "text": [
      "\n",
      "NED University\n",
      "Summer 2022\n",
      "\n",
      "Name: Adnan Khan\n",
      "Roll No: 18\n",
      "Course: DS for AI\n",
      "Institute:NED\n",
      "\n"
     ]
    }
   ],
   "source": [
    "name= \"Adnan Khan\"\n",
    "roll_no= 18\n",
    "course= \"DS for AI\"\n",
    "Institute= \"NED\"\n",
    "\n",
    "card= \"\"\"\n",
    "NED University\n",
    "Summer 2022\n",
    "\n",
    "Name: {1}\n",
    "Roll No: {3}\n",
    "Course: {0}\n",
    "Institute:{2}\n",
    "\"\"\".format(course,name,Institute,roll_no)\n",
    "\n",
    "print(card)"
   ]
  },
  {
   "cell_type": "code",
   "execution_count": 15,
   "metadata": {},
   "outputs": [
    {
     "name": "stdout",
     "output_type": "stream",
     "text": [
      "\n",
      "NED University\n",
      "Summer 2022\n",
      "\n",
      "Name: Adnan Khan\n",
      "Roll No: 18\n",
      "Course: DS for AI\n",
      "Institute:NED\n",
      "\n"
     ]
    }
   ],
   "source": [
    "name= \"Adnan Khan\"\n",
    "roll_no= 18\n",
    "course= \"DS for AI\"\n",
    "Institute= \"NED\"\n",
    "\n",
    "card= f\"\"\"\n",
    "NED University\n",
    "Summer 2022\n",
    "\n",
    "Name: {name}\n",
    "Roll No: {roll_no}\n",
    "Course: {course}\n",
    "Institute:{Institute}\n",
    "\"\"\"\n",
    "\n",
    "print(card)"
   ]
  },
  {
   "cell_type": "code",
   "execution_count": 13,
   "metadata": {},
   "outputs": [
    {
     "name": "stdout",
     "output_type": "stream",
     "text": [
      "Num one is : 5 , Num two is : 5 and sum is : 10\n"
     ]
    }
   ],
   "source": [
    "def add_two_num(a,b):\n",
    "    print(f\"Num one is : {a} , Num two is : {b} and sum is : {a+b}\")\n",
    "    \n",
    "add_two_num(5,5)"
   ]
  },
  {
   "cell_type": "code",
   "execution_count": 16,
   "metadata": {},
   "outputs": [
    {
     "name": "stdout",
     "output_type": "stream",
     "text": [
      "Num one is : 5 , Num two is : 5 and sum is : 10\n",
      "Num one is : 25 , Num two is : 5 and sum is : 30\n"
     ]
    }
   ],
   "source": [
    "add_two_num(5,5)\n",
    "add_two_num(25,5)"
   ]
  },
  {
   "cell_type": "code",
   "execution_count": 19,
   "metadata": {},
   "outputs": [
    {
     "name": "stdout",
     "output_type": "stream",
     "text": [
      "\n",
      "    NED University\n",
      "    Summer 2022\n",
      "\n",
      "    Name: Adnan Khan\n",
      "    Roll No: 18\n",
      "    Course: DS for AI\n",
      "    Institute: NED\n",
      "    \n"
     ]
    }
   ],
   "source": [
    "\n",
    "def my_id_card(name, roll_no,course,Institute):\n",
    "    card=f\"\"\"\n",
    "    NED University\n",
    "    Summer 2022\n",
    "\n",
    "    Name: {name}\n",
    "    Roll No: {roll_no}\n",
    "    Course: {course}\n",
    "    Institute: {Institute}\n",
    "    \"\"\"\n",
    "    return card\n",
    "get_card= my_id_card(\"Adnan Khan\",18, \"DS for AI\", \"NED\")\n",
    "print(get_card)"
   ]
  },
  {
   "cell_type": "code",
   "execution_count": 20,
   "metadata": {},
   "outputs": [
    {
     "name": "stdout",
     "output_type": "stream",
     "text": [
      "\n",
      "    NED University\n",
      "    Summer 2022\n",
      "\n",
      "    Name: Nauman\n",
      "    Roll No: 21\n",
      "    Course: DS for AI\n",
      "    Institute: NED\n",
      "    \n"
     ]
    }
   ],
   "source": [
    "new_card= my_id_card(\"Nauman\", 21, \"DS for AI\", \"NED\")\n",
    "print(new_card)"
   ]
  },
  {
   "cell_type": "code",
   "execution_count": 21,
   "metadata": {},
   "outputs": [
    {
     "name": "stdout",
     "output_type": "stream",
     "text": [
      "\n",
      "    NED University\n",
      "    Summer 2022\n",
      "\n",
      "    Name: Adnan Khan\n",
      "    Roll No: 18\n",
      "    Course: DS for AI\n",
      "    Institute: NED\n",
      "    \n"
     ]
    }
   ],
   "source": [
    "l1= [\"Adnan Khan\",18,\"DS for AI\", \"NED\"]\n",
    "c1= my_id_card(l1[0],l1[1],l1[2],l1[3])\n",
    "print(c1)"
   ]
  },
  {
   "cell_type": "code",
   "execution_count": 22,
   "metadata": {},
   "outputs": [
    {
     "name": "stdout",
     "output_type": "stream",
     "text": [
      "1\n",
      "2\n",
      "3\n"
     ]
    }
   ],
   "source": [
    "a,b,c = [1,2,3] \n",
    "print(a)\n",
    "print(b)\n",
    "print(c)"
   ]
  },
  {
   "cell_type": "code",
   "execution_count": 78,
   "metadata": {},
   "outputs": [
    {
     "name": "stdout",
     "output_type": "stream",
     "text": [
      "\n",
      "    NED University\n",
      "    Summer 2022\n",
      "\n",
      "    Name: Adnan Khan\n",
      "    Roll No: 18\n",
      "    Course: DS for AI\n",
      "    Institute: NED\n",
      "    \n"
     ]
    }
   ],
   "source": [
    "l2= [\"Adnan Khan\",18,\"DS for AI\", \"NED\"]\n",
    "c2= my_id_card(*l2)\n",
    "print(c2)"
   ]
  },
  {
   "cell_type": "code",
   "execution_count": 27,
   "metadata": {},
   "outputs": [
    {
     "name": "stdout",
     "output_type": "stream",
     "text": [
      "\n",
      "    NED University\n",
      "    Summer 2022\n",
      "\n",
      "    Name: Adnan Khan\n",
      "    Roll No: 18\n",
      "    Course: DS for AI\n",
      "    Institute: NED\n",
      "    \n"
     ]
    }
   ],
   "source": [
    "d1={\n",
    "    \"name\": \"Adnan Khan\",\n",
    "    \"roll_no\": 18,\n",
    "    \"course\" : \"DS for AI\",\n",
    "    \"Institute\": \"NED\"\n",
    "}\n",
    "\n",
    "c3= my_id_card(**d1)\n",
    "print(c3)"
   ]
  },
  {
   "cell_type": "code",
   "execution_count": 28,
   "metadata": {},
   "outputs": [
    {
     "name": "stdout",
     "output_type": "stream",
     "text": [
      "5 5 (1, 2, 3, 4, 5)\n"
     ]
    }
   ],
   "source": [
    "def sum_val(a,b,*c):\n",
    "    print(a,b,c)\n",
    "    \n",
    "sum_val(5,5,1,2,3,4,5)"
   ]
  },
  {
   "cell_type": "code",
   "execution_count": 29,
   "metadata": {},
   "outputs": [
    {
     "name": "stdout",
     "output_type": "stream",
     "text": [
      "25\n"
     ]
    }
   ],
   "source": [
    "def sum_val(a,b,*c):\n",
    "    sum=a+b\n",
    "    for i in c:\n",
    "        sum=sum+i\n",
    "        \n",
    "    print(sum)\n",
    "    \n",
    "sum_val(5,5,1,2,3,4,5)"
   ]
  },
  {
   "cell_type": "code",
   "execution_count": 39,
   "metadata": {},
   "outputs": [
    {
     "name": "stdout",
     "output_type": "stream",
     "text": [
      "25\n",
      "327\n"
     ]
    }
   ],
   "source": [
    "def sum_val(a,b,**c):\n",
    "    sum=a+b\n",
    "    for i in c.values():\n",
    "        if type(i) is type(1):\n",
    "            sum=sum+i\n",
    "    print(sum)\n",
    "    \n",
    "sum_val(5,5,num1=1,num2=2,num3=3,num4=4,num5=5 ,pak=\"pak\", z=\"xyz\")\n",
    "sum_val(100,200,num3=7, num8=20, pak='123')"
   ]
  },
  {
   "cell_type": "code",
   "execution_count": 40,
   "metadata": {},
   "outputs": [
    {
     "name": "stdout",
     "output_type": "stream",
     "text": [
      "The Zen of Python, by Tim Peters\n",
      "\n",
      "Beautiful is better than ugly.\n",
      "Explicit is better than implicit.\n",
      "Simple is better than complex.\n",
      "Complex is better than complicated.\n",
      "Flat is better than nested.\n",
      "Sparse is better than dense.\n",
      "Readability counts.\n",
      "Special cases aren't special enough to break the rules.\n",
      "Although practicality beats purity.\n",
      "Errors should never pass silently.\n",
      "Unless explicitly silenced.\n",
      "In the face of ambiguity, refuse the temptation to guess.\n",
      "There should be one-- and preferably only one --obvious way to do it.\n",
      "Although that way may not be obvious at first unless you're Dutch.\n",
      "Now is better than never.\n",
      "Although never is often better than *right* now.\n",
      "If the implementation is hard to explain, it's a bad idea.\n",
      "If the implementation is easy to explain, it may be a good idea.\n",
      "Namespaces are one honking great idea -- let's do more of those!\n"
     ]
    }
   ],
   "source": [
    "import this"
   ]
  },
  {
   "cell_type": "code",
   "execution_count": 44,
   "metadata": {},
   "outputs": [
    {
     "name": "stdout",
     "output_type": "stream",
     "text": [
      "10\n",
      "6\n",
      "173\n"
     ]
    }
   ],
   "source": [
    "def add_num(num1,num2,*n):\n",
    "    return num1 + num2 + sum(n)\n",
    "\n",
    "data = [[1,2,3,4],\n",
    "       [1,2,3],\n",
    "       [7,8,9,20,20,20,89]]\n",
    "\n",
    "\n",
    "for r in data:\n",
    "    print(add_num(*r))"
   ]
  },
  {
   "cell_type": "code",
   "execution_count": 51,
   "metadata": {},
   "outputs": [
    {
     "name": "stdout",
     "output_type": "stream",
     "text": [
      "10\n",
      "10\n",
      "13\n"
     ]
    }
   ],
   "source": [
    "def sum1(a,b,*c):\n",
    "    return a+b+sum(c)\n",
    "\n",
    "data= [[1,2,3,2,2],\n",
    "       [1,2,3,2,2],\n",
    "       [1,5,3,2,2]]\n",
    "\n",
    "for r in data:\n",
    "    print(sum1(*r))\n"
   ]
  },
  {
   "cell_type": "code",
   "execution_count": 54,
   "metadata": {},
   "outputs": [
    {
     "name": "stdout",
     "output_type": "stream",
     "text": [
      "1\n",
      "2\n",
      "3\n",
      "4\n",
      "5\n"
     ]
    }
   ],
   "source": [
    "def this_range(a,b):\n",
    "    for i in range(a, b+1):\n",
    "        print(i)\n",
    "        \n",
    "this_range(1,5)"
   ]
  },
  {
   "cell_type": "code",
   "execution_count": 59,
   "metadata": {},
   "outputs": [
    {
     "name": "stdout",
     "output_type": "stream",
     "text": [
      "<generator object r1 at 0x0000017452F076F0>\n",
      "1\n",
      "2\n",
      "3\n",
      "4\n",
      "5\n"
     ]
    }
   ],
   "source": [
    "def r1(a,c):\n",
    "    for i in range(a,c+1):\n",
    "        yield i\n",
    "        \n",
    "p= r1(1,5)\n",
    "print(p)\n",
    "print(next(p))\n",
    "print(next(p))\n",
    "print(next(p))\n",
    "print(next(p))\n",
    "print(next(p))\n"
   ]
  },
  {
   "cell_type": "code",
   "execution_count": 61,
   "metadata": {},
   "outputs": [
    {
     "name": "stdout",
     "output_type": "stream",
     "text": [
      "[1, 2, 3, 4, 5]\n"
     ]
    }
   ],
   "source": [
    "print(list(r1(1,5)))"
   ]
  },
  {
   "cell_type": "code",
   "execution_count": 69,
   "metadata": {},
   "outputs": [
    {
     "data": {
      "text/plain": [
       "15"
      ]
     },
     "execution_count": 69,
     "metadata": {},
     "output_type": "execute_result"
    }
   ],
   "source": [
    "def rec_s(n):\n",
    "    if n==0:\n",
    "        return n\n",
    "    else:\n",
    "        return n + rec_s(n-1)\n",
    "    \n",
    "rec_s(5)"
   ]
  },
  {
   "cell_type": "code",
   "execution_count": 70,
   "metadata": {},
   "outputs": [
    {
     "name": "stdout",
     "output_type": "stream",
     "text": [
      "15\n"
     ]
    }
   ],
   "source": [
    "a= lambda x,y,z : x+y+z\n",
    "\n",
    "print(a(5,5,5))"
   ]
  },
  {
   "cell_type": "code",
   "execution_count": 71,
   "metadata": {},
   "outputs": [
    {
     "name": "stdout",
     "output_type": "stream",
     "text": [
      "8\n"
     ]
    }
   ],
   "source": [
    "p= lambda s,t,u: s*t*u\n",
    "print(p(2,2,2))"
   ]
  },
  {
   "cell_type": "code",
   "execution_count": 72,
   "metadata": {},
   "outputs": [
    {
     "data": {
      "text/plain": [
       "[6, 7, 8, 9]"
      ]
     },
     "execution_count": 72,
     "metadata": {},
     "output_type": "execute_result"
    }
   ],
   "source": [
    "l=[1,2,3,4]\n",
    "\n",
    "list(map(lambda x:x+5, l))"
   ]
  },
  {
   "cell_type": "code",
   "execution_count": 73,
   "metadata": {},
   "outputs": [
    {
     "data": {
      "text/plain": [
       "[6, 7, 8, 9]"
      ]
     },
     "execution_count": 73,
     "metadata": {},
     "output_type": "execute_result"
    }
   ],
   "source": [
    "l=[1,2,3,4]\n",
    "\n",
    "def abc(x):\n",
    "    return x + 5\n",
    "\n",
    "list(map(abc, l))"
   ]
  },
  {
   "cell_type": "code",
   "execution_count": 74,
   "metadata": {},
   "outputs": [
    {
     "name": "stdout",
     "output_type": "stream",
     "text": [
      "6\n",
      "7\n",
      "8\n",
      "9\n"
     ]
    }
   ],
   "source": [
    "l=[1,2,3,4]\n",
    "def abc(x):\n",
    "    return x + 5\n",
    "#mapping saves us from using loop\n",
    "for i in l:\n",
    "    print(abc(i))"
   ]
  },
  {
   "cell_type": "code",
   "execution_count": 76,
   "metadata": {},
   "outputs": [
    {
     "data": {
      "text/plain": [
       "[27]"
      ]
     },
     "execution_count": 76,
     "metadata": {},
     "output_type": "execute_result"
    }
   ],
   "source": [
    "l = [20,27,30,50]\n",
    "def abc(x):\n",
    "    if x%2!=0:\n",
    "        return x\n",
    "#The filter() method filters the given sequence with the help of a function that tests each element in the sequence to be true or not.\n",
    "list(filter(abc, l))"
   ]
  },
  {
   "cell_type": "code",
   "execution_count": 77,
   "metadata": {},
   "outputs": [
    {
     "name": "stdout",
     "output_type": "stream",
     "text": [
      "[1, 3, 5, 13]\n",
      "[0, 2, 8]\n"
     ]
    }
   ],
   "source": [
    "# a list contains both even and odd numbers. \n",
    "seq = [0, 1, 2, 3, 5, 8, 13]\n",
    "  \n",
    "# result contains odd numbers of the list\n",
    "result = filter(lambda x: x % 2 != 0, seq)\n",
    "print(list(result))\n",
    "  \n",
    "# result contains even numbers of the list\n",
    "result = filter(lambda x: x % 2 == 0, seq)\n",
    "print(list(result))"
   ]
  }
 ],
 "metadata": {
  "kernelspec": {
   "display_name": "Python 3.10.6 64-bit (windows store)",
   "language": "python",
   "name": "python3"
  },
  "language_info": {
   "codemirror_mode": {
    "name": "ipython",
    "version": 3
   },
   "file_extension": ".py",
   "mimetype": "text/x-python",
   "name": "python",
   "nbconvert_exporter": "python",
   "pygments_lexer": "ipython3",
   "version": "3.10.6"
  },
  "orig_nbformat": 4,
  "vscode": {
   "interpreter": {
    "hash": "2207a588554e91dce266220f1b9ecc2a2e9883d405ee092e51d95f8c244ad40f"
   }
  }
 },
 "nbformat": 4,
 "nbformat_minor": 2
}
