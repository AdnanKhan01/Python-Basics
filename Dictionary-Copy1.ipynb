{
 "cells": [
  {
   "cell_type": "code",
   "execution_count": 1,
   "metadata": {},
   "outputs": [
    {
     "name": "stdout",
     "output_type": "stream",
     "text": [
      "Enter id1\n",
      "Enter namehamza\n",
      "{'IDNO': '1', 'NAME': 'hamza'}\n"
     ]
    }
   ],
   "source": [
    "dic = {}\n",
    "id=input(\"Enter id\")\n",
    "dic['IDNO']= id\n",
    "name=input(\"Enter name\")\n",
    "dic['NAME']= name\n",
    "\n",
    "\n",
    "print(dic)"
   ]
  },
  {
   "cell_type": "code",
   "execution_count": 6,
   "metadata": {},
   "outputs": [
    {
     "name": "stdout",
     "output_type": "stream",
     "text": [
      "{'id': 10, 'name': 'adnan'}\n"
     ]
    }
   ],
   "source": [
    "dic['skills']= [\"Python\"]\n",
    "\n",
    "\n",
    "d2={\n",
    "    'id':2,\n",
    "     'name':\"adnan\",\n",
    "    'id':5,\n",
    "    'id':10\n",
    "    \n",
    "}\n",
    "\n",
    "print(d2)\n"
   ]
  },
  {
   "cell_type": "code",
   "execution_count": 12,
   "metadata": {},
   "outputs": [
    {
     "name": "stdout",
     "output_type": "stream",
     "text": [
      "{'name': None, 'id': None, 'dob': None, 'course': None, 'timing': None, 'address': None}\n",
      "Enter nameadnan\n"
     ]
    },
    {
     "ename": "TypeError",
     "evalue": "list indices must be integers or slices, not str",
     "output_type": "error",
     "traceback": [
      "\u001b[1;31m---------------------------------------------------------------------------\u001b[0m",
      "\u001b[1;31mTypeError\u001b[0m                                 Traceback (most recent call last)",
      "\u001b[1;32m<ipython-input-12-4ed8292a6760>\u001b[0m in \u001b[0;36m<module>\u001b[1;34m()\u001b[0m\n\u001b[0;32m      4\u001b[0m \u001b[0mprint\u001b[0m\u001b[1;33m(\u001b[0m\u001b[0mdic1\u001b[0m\u001b[1;33m)\u001b[0m\u001b[1;33m\u001b[0m\u001b[0m\n\u001b[0;32m      5\u001b[0m \u001b[0mname1\u001b[0m\u001b[1;33m=\u001b[0m \u001b[0minput\u001b[0m\u001b[1;33m(\u001b[0m\u001b[1;34m\"Enter name\"\u001b[0m\u001b[1;33m)\u001b[0m\u001b[1;33m\u001b[0m\u001b[0m\n\u001b[1;32m----> 6\u001b[1;33m \u001b[0ml1\u001b[0m\u001b[1;33m[\u001b[0m\u001b[1;34m'name'\u001b[0m\u001b[1;33m]\u001b[0m\u001b[1;33m=\u001b[0m\u001b[0mname1\u001b[0m\u001b[1;33m\u001b[0m\u001b[0m\n\u001b[0m",
      "\u001b[1;31mTypeError\u001b[0m: list indices must be integers or slices, not str"
     ]
    }
   ],
   "source": [
    "l1=['name','id','dob','course','timing','address']\n",
    "\n",
    "dic1= dict.fromkeys(l1)\n",
    "print(dic1)\n",
    "name1= input(\"Enter name\")\n",
    "l1['name']=name1\n"
   ]
  },
  {
   "cell_type": "code",
   "execution_count": 19,
   "metadata": {},
   "outputs": [
    {
     "name": "stdout",
     "output_type": "stream",
     "text": [
      "Enter comma seperated valuea,b,c,d\n",
      "['a', 'b', 'c', 'd']\n",
      "{'a': 'NA', 'b': 'NA', 'c': 'NA', 'd': 'NA'}\n",
      "Enter values seperated with comma1,2,3,4\n",
      "a\n",
      "b\n",
      "c\n",
      "d\n",
      "{'a': 'NA', 'b': 'NA', 'c': 'NA', 'd': 'NA'}\n"
     ]
    }
   ],
   "source": [
    "l1= input(\"Enter comma seperated value\")\n",
    "l1=l1.split(\",\")\n",
    "print(l1)\n",
    "dic= dict.fromkeys(l1,\"NA\")\n",
    "print(dic)\n",
    "l2=input(\"Enter values seperated with comma\")\n",
    "l2=l2.split(\",\")\n",
    "for x in dic.keys():\n",
    "    print(x)\n",
    "print(dic)"
   ]
  },
  {
   "cell_type": "code",
   "execution_count": 40,
   "metadata": {},
   "outputs": [
    {
     "name": "stdout",
     "output_type": "stream",
     "text": [
      "{'a': '1', 'b': '2', 'c': '3'}\n"
     ]
    },
    {
     "ename": "TypeError",
     "evalue": "'str' object cannot be interpreted as an integer",
     "output_type": "error",
     "traceback": [
      "\u001b[1;31m---------------------------------------------------------------------------\u001b[0m",
      "\u001b[1;31mTypeError\u001b[0m                                 Traceback (most recent call last)",
      "\u001b[1;32m<ipython-input-40-7f73375d9787>\u001b[0m in \u001b[0;36m<module>\u001b[1;34m()\u001b[0m\n\u001b[0;32m      5\u001b[0m \u001b[0ml3\u001b[0m\u001b[1;33m.\u001b[0m\u001b[0mkeys\u001b[0m\u001b[1;33m(\u001b[0m\u001b[1;33m)\u001b[0m\u001b[1;33m\u001b[0m\u001b[0m\n\u001b[0;32m      6\u001b[0m \u001b[0ml3\u001b[0m\u001b[1;33m.\u001b[0m\u001b[0mvalues\u001b[0m\u001b[1;33m(\u001b[0m\u001b[1;33m)\u001b[0m\u001b[1;33m\u001b[0m\u001b[0m\n\u001b[1;32m----> 7\u001b[1;33m \u001b[0ml1\u001b[0m\u001b[1;33m.\u001b[0m\u001b[0mpop\u001b[0m\u001b[1;33m(\u001b[0m\u001b[1;34m'a'\u001b[0m\u001b[1;33m)\u001b[0m\u001b[1;33m\u001b[0m\u001b[0m\n\u001b[0m",
      "\u001b[1;31mTypeError\u001b[0m: 'str' object cannot be interpreted as an integer"
     ]
    }
   ],
   "source": [
    "l1=['a','b','c']\n",
    "l2=['1','2','3']\n",
    "l3=dict(zip(l1,l2))\n",
    "print(l3)\n",
    "l3.keys()\n",
    "l3.values()\n",
    "l1.pop('a')"
   ]
  },
  {
   "cell_type": "markdown",
   "metadata": {},
   "source": [
    "l1=input(\"Enter keys\").split(\",\")\n",
    "l2=input\n"
   ]
  },
  {
   "cell_type": "code",
   "execution_count": 43,
   "metadata": {},
   "outputs": [
    {
     "name": "stdout",
     "output_type": "stream",
     "text": [
      "{'a': 'AAA', 'b': 'CCC'}\n"
     ]
    },
    {
     "data": {
      "text/plain": [
       "{'a': 'AAA', 'b': 'CCC'}"
      ]
     },
     "execution_count": 43,
     "metadata": {},
     "output_type": "execute_result"
    }
   ],
   "source": [
    "d1={'a':\"AA\",'b':\"BB\"}\n",
    "d2={'a':\"AAA\",'b':\"CCC\"}\n",
    "d1.update(d2)\n",
    "\n",
    "print(d1)\n",
    "d1\n"
   ]
  },
  {
   "cell_type": "code",
   "execution_count": null,
   "metadata": {
    "collapsed": true
   },
   "outputs": [],
   "source": [
    "{\n",
    "    a:1,\n",
    "    b:2,\n",
    "    c:3,\n",
    "    d:4,\n",
    "    e:5\n",
    "}"
   ]
  },
  {
   "cell_type": "code",
   "execution_count": null,
   "metadata": {
    "collapsed": true
   },
   "outputs": [],
   "source": []
  }
 ],
 "metadata": {
  "kernelspec": {
   "display_name": "Python 3",
   "language": "python",
   "name": "python3"
  },
  "language_info": {
   "codemirror_mode": {
    "name": "ipython",
    "version": 3
   },
   "file_extension": ".py",
   "mimetype": "text/x-python",
   "name": "python",
   "nbconvert_exporter": "python",
   "pygments_lexer": "ipython3",
   "version": "3.6.3"
  }
 },
 "nbformat": 4,
 "nbformat_minor": 2
}
